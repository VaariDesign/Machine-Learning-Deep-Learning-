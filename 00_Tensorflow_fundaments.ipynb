
00_Tensorflow_fundaments.ipynb
00_Tensorflow_fundaments.ipynb_Työkirjan tähti poistettu
Fundaments of Tensorflow
Intro Tensors

Intro Tensors

Getting info from tensors

Manipulating tensors

Tensors & NumPy

Using Tensorflow functions

Using GPUs with TensorFlow

cntrl+m+m

Intro to Tensors

[4]
0 s
# Import TensorFlow

import tensorflow as tf

print("Current version of TensorFlow is " + tf.__version__)
Current version of TensorFlow is 2.11.0
[5]
# Create tensors with tf.constant()

scalar = tf.constant(7)
scalar
<tf.Tensor: shape=(), dtype=int32, numpy=7>
[6]
0 s
# Check the number of dimensions of a tensor (ndim stands for number of dimensions)

scalar.ndim
0
[7]
0 s
# Create a vector (more than 0 dimensions)

vector = tf.constant([10, 10])
vector
     
<tf.Tensor: shape=(2,), dtype=int32, numpy=array([10, 10], dtype=int32)>
[8]
# Check the number of dimensions of our vector tensor

vector.ndim
1
[9]

# Create a matrix (more than 1 dimension)

matrix = tf.constant([[10, 7],
                      [7, 10]])
matrix
     
<tf.Tensor: shape=(2, 2), dtype=int32, numpy=
array([[10,  7],
       [ 7, 10]], dtype=int32)>
[10]
0 s
matrix.ndim
2
[11]
0 s

# Create another matrix and define the datatype

another_matrix = tf.constant([[10., 7.],
                              [3., 2.],
                              [8., 9.]], dtype=tf.float16) # specify the datatype with 'dtype'
another_matrix
<tf.Tensor: shape=(3, 2), dtype=float16, numpy=
array([[10.,  7.],
       [ 3.,  2.],
       [ 8.,  9.]], dtype=float16)>
[12]
0 s
# Even though another_matrix contains more numbers, its dimensions stay the same
another_matrix.ndim
2
[13]
0 s

# How about a tensor? (more than 2 dimensions, although, all of the above items are also technically tensors)
tensor = tf.constant([[[1, 2, 3],
                       [4, 5, 6]],
                      [[7, 8, 9],
                       [10, 11, 12]],
                      [[13, 14, 15],
                       [16, 17, 18]]])
tensor
<tf.Tensor: shape=(3, 2, 3), dtype=int32, numpy=
array([[[ 1,  2,  3],
        [ 4,  5,  6]],

       [[ 7,  8,  9],
        [10, 11, 12]],

       [[13, 14, 15],
        [16, 17, 18]]], dtype=int32)>
[14]
0 s
tensor.ndim
3
Creating Tensors with tf.Variable()

[15]
0 s
# Create the same tensor with tf.Variable() and tf.constant()
changeable_tensor = tf.Variable([10, 7])
unchangeable_tensor = tf.constant([10, 7])
changeable_tensor, unchangeable_tensor
(<tf.Variable 'Variable:0' shape=(2,) dtype=int32, numpy=array([10,  7], dtype=int32)>,
 <tf.Tensor: shape=(2,), dtype=int32, numpy=array([10,  7], dtype=int32)>)
[22]
0 s
# change one of the elements of the changeable tensor
changeable_tensor[1].assign(9)
changeable_tensor
<tf.Variable 'Variable:0' shape=(2,) dtype=int32, numpy=array([6, 9], dtype=int32)>
Creating random tensors

[25]
0 s
# Create two random (but the same) tensors
random_1 = tf.random.Generator.from_seed(42) # set the seed for reproducibility
random_1 = random_1.normal(shape=(3, 2)) # create tensor from a normal distribution 
random_2 = tf.random.Generator.from_seed(42)
random_2 = random_2.normal(shape=(3, 2))

# Are they equal?
random_1, random_2, random_1 == random_2
(<tf.Tensor: shape=(3, 2), dtype=float32, numpy=
 array([[-0.7565803 , -0.06854702],
        [ 0.07595026, -1.2573844 ],
        [-0.23193763, -1.8107855 ]], dtype=float32)>,
 <tf.Tensor: shape=(3, 2), dtype=float32, numpy=
 array([[-0.7565803 , -0.06854702],
        [ 0.07595026, -1.2573844 ],
        [-0.23193763, -1.8107855 ]], dtype=float32)>,
 <tf.Tensor: shape=(3, 2), dtype=bool, numpy=
 array([[ True,  True],
        [ True,  True],
        [ True,  True]])>)


# Other ways to make tensors

# Make a tensor of all ones
tf.ones(shape=(3, 2))

# Make a tensor of all zeros
tf.zeros(shape=(3, 2))   


import numpy as np
numpy_A = np.arange(1, 25, dtype=np.int32) # create a NumPy array between 1 and 25
A = tf.constant(numpy_A,  
                shape=[2, 4, 3]) # note: the shape total (2*4*3) has to match the number of elements in the array
numpy_A, A

# Create a rank 4 tensor (4 dimensions)
rank_4_tensor = tf.zeros([2, 3, 4, 5])
rank_4_tensor


